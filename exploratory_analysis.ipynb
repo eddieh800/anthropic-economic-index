{
 "cells": [
  {
   "cell_type": "code",
   "execution_count": 1,
   "metadata": {},
   "outputs": [],
   "source": [
    "import pandas as pd\n",
    "import numpy as np\n",
    "import matplotlib.pyplot\n",
    "import seaborn as sns"
   ]
  },
  {
   "cell_type": "code",
   "execution_count": null,
   "metadata": {},
   "outputs": [],
   "source": [
    "# Upload the data\n",
    "path = '/Users/eddiehuang/Documents/Other/Anthropic/economic index report v2/'\n",
    "onet = pd.read_csv(path+'onet_task_statements.csv')\n",
    "soc_struct = pd.read_csv(path+'SOC_Structure.csv')\n",
    "task_v1 = pd.read_csv(path+'task_pct_v1.csv')\n",
    "task_v2 = pd.read_csv(path+'task_pct_v2.csv')\n",
    "task_think = pd.read_csv(path+'task_thinking_fractions.csv')\n",
    "auto_aug_v1 = pd.read_csv(path+'automation_vs_augmentation_v1.csv')\n",
    "auto_aug_v2 = pd.read_csv(path+'automation_vs_augmentation_v2.csv')\n",
    "auto_aug_task = pd.read_csv(path+'automation_vs_augmentation_by_task.csv')"
   ]
  },
  {
   "cell_type": "code",
   "execution_count": null,
   "metadata": {},
   "outputs": [],
   "source": [
    "# Explore the data\n",
    "df = onet"
   ]
  },
  {
   "cell_type": "code",
   "execution_count": null,
   "metadata": {},
   "outputs": [
    {
     "data": {
      "text/html": [
       "<div>\n",
       "<style scoped>\n",
       "    .dataframe tbody tr th:only-of-type {\n",
       "        vertical-align: middle;\n",
       "    }\n",
       "\n",
       "    .dataframe tbody tr th {\n",
       "        vertical-align: top;\n",
       "    }\n",
       "\n",
       "    .dataframe thead th {\n",
       "        text-align: right;\n",
       "    }\n",
       "</style>\n",
       "<table border=\"1\" class=\"dataframe\">\n",
       "  <thead>\n",
       "    <tr style=\"text-align: right;\">\n",
       "      <th></th>\n",
       "      <th>Task</th>\n",
       "    </tr>\n",
       "    <tr>\n",
       "      <th>Title</th>\n",
       "      <th></th>\n",
       "    </tr>\n",
       "  </thead>\n",
       "  <tbody>\n",
       "    <tr>\n",
       "      <th>Accountants</th>\n",
       "      <td>16</td>\n",
       "    </tr>\n",
       "    <tr>\n",
       "      <th>Actors</th>\n",
       "      <td>19</td>\n",
       "    </tr>\n",
       "    <tr>\n",
       "      <th>Actuaries</th>\n",
       "      <td>14</td>\n",
       "    </tr>\n",
       "    <tr>\n",
       "      <th>Acupuncturists</th>\n",
       "      <td>18</td>\n",
       "    </tr>\n",
       "    <tr>\n",
       "      <th>Acute Care Nurses</th>\n",
       "      <td>27</td>\n",
       "    </tr>\n",
       "    <tr>\n",
       "      <th>...</th>\n",
       "      <td>...</td>\n",
       "    </tr>\n",
       "    <tr>\n",
       "      <th>Wind Energy Project Managers</th>\n",
       "      <td>15</td>\n",
       "    </tr>\n",
       "    <tr>\n",
       "      <th>Wind Turbine Service Technicians</th>\n",
       "      <td>13</td>\n",
       "    </tr>\n",
       "    <tr>\n",
       "      <th>Woodworking Machine Setters, Operators, and Tenders, Except Sawing</th>\n",
       "      <td>26</td>\n",
       "    </tr>\n",
       "    <tr>\n",
       "      <th>Word Processors and Typists</th>\n",
       "      <td>19</td>\n",
       "    </tr>\n",
       "    <tr>\n",
       "      <th>Zoologists and Wildlife Biologists</th>\n",
       "      <td>15</td>\n",
       "    </tr>\n",
       "  </tbody>\n",
       "</table>\n",
       "<p>974 rows × 1 columns</p>\n",
       "</div>"
      ],
      "text/plain": [
       "                                                    Task\n",
       "Title                                                   \n",
       "Accountants                                           16\n",
       "Actors                                                19\n",
       "Actuaries                                             14\n",
       "Acupuncturists                                        18\n",
       "Acute Care Nurses                                     27\n",
       "...                                                  ...\n",
       "Wind Energy Project Managers                          15\n",
       "Wind Turbine Service Technicians                      13\n",
       "Woodworking Machine Setters, Operators, and Ten...    26\n",
       "Word Processors and Typists                           19\n",
       "Zoologists and Wildlife Biologists                    15\n",
       "\n",
       "[974 rows x 1 columns]"
      ]
     },
     "execution_count": 42,
     "metadata": {},
     "output_type": "execute_result"
    }
   ],
   "source": [
    "#Functions used to explore dfs\n",
    "print(df.shape)\n",
    "\n",
    "df.head()\n",
    "\n",
    "df.dtypes\n",
    "\n",
    "df['Domain Source'].unique()\n",
    "\n",
    "df.describe()\n",
    "\n",
    "df['Date'].value_counts().sort_index()\n",
    "\n",
    "pd.DataFrame(df.groupby('Title')['Task'].nunique())\n",
    "\n",
    "for column in df.columns:\n",
    "    print('Column: ' + column + ' | Unique Values: ' + str(df[column].nunique()))"
   ]
  },
  {
   "cell_type": "markdown",
   "metadata": {},
   "source": [
    "# Notes"
   ]
  },
  {
   "cell_type": "markdown",
   "metadata": {},
   "source": [
    "### onet_task_statements\n",
    "Table is a dictionary of SOC titles and the ONET tasks that are relevant to the title.\n",
    "- Shape: (19530, 8)\n",
    "- Columns: ['O*NET-SOC Code', 'Title', 'Task ID', 'Task', 'Task Type', 'Incumbents Responding', 'Date', 'Domain Source']\n",
    "- Key: 'O*NET-SOC Code'\n",
    "- Title: 974 unique job titles\n",
    "- Task ID: every row is a unique task ID\n",
    "- Task: Description of the task\n",
    "- Task Type: Whether the task is core or supplemental to the job ['Core' (13487), 'Supplemental' (5385)]\n",
    "- Incumbents Responding\n",
    "- Date: Ranges from Mar '03 to Jul '15, without consistent intervals. Most data comes from the 2010 onwards. Need to convert dtype to datetime.\n",
    "- Domain Source: Indicates how reliable or representative the data point might be. Incumbent is reported by people working in the hob, OEs are subject matter experts, and Analysts are O*Net research analysts ['Incumbent' (14511), 'Occupational Expert' (4361), 'Analyst' (658)]"
   ]
  },
  {
   "cell_type": "markdown",
   "metadata": {},
   "source": [
    "### SOC_Structure\n",
    "Table is a list of SOC Titles, with columns showing the categorization of the title. It is structured in a waterfall format, basically Major Group is an umbrella to Minor Group, which is an umbrella to Broad Occupation, and so on. The umbrella categories do not repeat down the waterfall, leading to many NaNs (ie Chief Executives is a Broad Occupation 11-1010, but the Major Group and Minor Group are NaN even though we know it's part of Major Group 11-000 and Minor Group 11-1000 based on its coding.)\n",
    "- Shape: (1596, 6)\n",
    "- Columns: ['Major Group', 'Minor Group', 'Broad Occupation', 'Detailed Occupation', 'Detailed O*NET-SOC', 'SOC or O*NET-SOC 2019 Title']\n",
    "- Key: 'SOC or O*NET-SOC 2019 Title'\n",
    "- dTypes: all objects\n",
    "- Note: 'SOC or O*NET-SOC 2019 Title' can have duplicates, because the title can be both a Broad Occupation and Detailed Occupation, for example.\n"
   ]
  },
  {
   "cell_type": "markdown",
   "metadata": {},
   "source": [
    "### task_pct_v1 and task_pct_v2\n",
    "List of X tasks and the percent share of total use cases\n",
    "- Shape: (3514, 2)\n",
    "- Columns: ['task_name','pct']\n",
    "- Key: task_name"
   ]
  },
  {
   "cell_type": "markdown",
   "metadata": {},
   "source": [
    "### automation_vs_augmentation_v1 and automation_vs_augmentation_v2\n",
    "Categorizes the type of interaction the user gives the AI tool\n",
    "- Shape: (6, 2)\n",
    "- Columns: ['interaction_type','pct']\n",
    "- Key: interaction_type [directive, feedback loop, learning, none, task iteration, validation]"
   ]
  },
  {
   "cell_type": "markdown",
   "metadata": {},
   "source": [
    "### automation_vs_augmentation_by_task\n",
    "splits each task by the % share of the below types of interactions. However, it has more than the interation types in automation_vs_augmentation_vX files (ie filtered)\n",
    "- Shape: (3364, 7)\n",
    "- Columns: ['task_name','feedback_loop','directive','task_iteration','validation','learning','filtered']\n",
    "- Key: task_name"
   ]
  },
  {
   "cell_type": "markdown",
   "metadata": {},
   "source": [
    "### task_thinking_fractions\n",
    "Lists all tasks and the fraction of thinking time they require?\n",
    "- Columns: ['task_name','thinking_fraction']\n",
    "- Key: task_name"
   ]
  },
  {
   "cell_type": "code",
   "execution_count": null,
   "metadata": {},
   "outputs": [],
   "source": [
    "# Data Cleaning\n",
    "onet['Date'] = pd.to_datetime(onet['Date'])"
   ]
  }
 ],
 "metadata": {
  "kernelspec": {
   "display_name": "orion",
   "language": "python",
   "name": "python3"
  },
  "language_info": {
   "codemirror_mode": {
    "name": "ipython",
    "version": 3
   },
   "file_extension": ".py",
   "mimetype": "text/x-python",
   "name": "python",
   "nbconvert_exporter": "python",
   "pygments_lexer": "ipython3",
   "version": "3.11.7"
  }
 },
 "nbformat": 4,
 "nbformat_minor": 2
}
